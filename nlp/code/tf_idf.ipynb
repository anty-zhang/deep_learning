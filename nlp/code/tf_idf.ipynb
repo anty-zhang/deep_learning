{
 "cells": [
  {
   "cell_type": "markdown",
   "id": "f5379098-137a-4124-8119-161bc65b0491",
   "metadata": {},
   "source": [
    "# TF-IDF介绍"
   ]
  },
  {
   "cell_type": "code",
   "execution_count": 1,
   "id": "15c40fd9-3aa4-4443-a048-931f88aa4a6a",
   "metadata": {},
   "outputs": [],
   "source": [
    "# TF-IDF 是NLP一种常用的统计方法，即关键词的重要性随着它在一个文件中出现的次数成正比增加，但随着它在语料库中出现的频率反比增加\n",
    "# tfidf = tf * idf\n",
    "# tf (term frequence): 即一个词在文档中出现的频率，假设一个文档有 N个词，一个词在整个文档中出现i次，则tf = i/N\n",
    "# idf (inverse document frequence): 假设一个语料库有n个文档，而一个词在k个文档中出现过，则 idf = log(n/k)\n"
   ]
  },
  {
   "cell_type": "code",
   "execution_count": 2,
   "id": "92ce624c-4680-4368-a7d5-42a643a327ff",
   "metadata": {},
   "outputs": [],
   "source": [
    "text1 =\"\"\"\n",
    "Football is a family of team sports that involve, to varying degrees, kicking a ball to score a goal. \n",
    "Unqualified, the word football is understood to refer to whichever form of football is the most popular \n",
    "in the regional context in which the word appears. Sports commonly called football in certain places \n",
    "include association football (known as soccer in some countries); gridiron football (specifically American \n",
    "football or Canadian football); Australian rules football; rugby football (either rugby league or rugby union); \n",
    "and Gaelic football. These different variations of football are known as football codes.\n",
    "\"\"\"\n",
    "\n",
    "text2 = \"\"\"\n",
    "Basketball is a team sport in which two teams of five players, opposing one another on a rectangular court, \n",
    "compete with the primary objective of shooting a basketball (approximately 9.4 inches (24 cm) in diameter) \n",
    "through the defender's hoop (a basket 18 inches (46 cm) in diameter mounted 10 feet (3.048 m) high to a backboard \n",
    "at each end of the court) while preventing the opposing team from shooting through their own hoop. A field goal is \n",
    "worth two points, unless made from behind the three-point line, when it is worth three. After a foul, timed play stops \n",
    "and the player fouled or designated to shoot a technical foul is given one or more one-point free throws. The team with \n",
    "the most points at the end of the game wins, but if regulation play expires with the score tied, an additional period \n",
    "of play (overtime) is mandated.\n",
    "\"\"\"\n",
    "\n",
    "text3 = \"\"\"\n",
    "Volleyball, game played by two teams, usually of six players on a side, in which the players use their hands to bat a \n",
    "ball back and forth over a high net, trying to make the ball touch the court within the opponents’ playing area before \n",
    "it can be returned. To prevent this a player on the opposing team bats the ball up and toward a teammate before it touches \n",
    "the court surface—that teammate may then volley it back across the net or bat it to a third teammate who volleys it across \n",
    "the net. A team is allowed only three touches of the ball before it must be returned over the net.\n",
    "\"\"\"\n",
    "# 这三篇文章分别是关于足球，篮球，排球的介绍"
   ]
  },
  {
   "cell_type": "code",
   "execution_count": 3,
   "id": "66a50282-bee9-454b-b5d2-a8d8cf14b673",
   "metadata": {},
   "outputs": [],
   "source": [
    "# 预处理\n",
    "import nltk\n",
    "# nltk.download('stopwords')\n",
    "import string\n",
    "\n",
    "# 文本预处理\n",
    "# 函数：text文件分句，分词，并去掉标点\n",
    "def get_tokens(text):\n",
    "    text = text.replace('\\n', '')\n",
    "    sents = nltk.sent_tokenize(text)  # 分句\n",
    "    tokens = []\n",
    "    for sent in sents:\n",
    "        for word in nltk.word_tokenize(sent):  # 分词\n",
    "            if word not in string.punctuation: # 去掉标点\n",
    "                tokens.append(word)\n",
    "    return tokens"
   ]
  },
  {
   "cell_type": "code",
   "execution_count": 4,
   "id": "03cb8621-a98e-40b3-ae13-7704e340933d",
   "metadata": {},
   "outputs": [],
   "source": [
    "# 去掉文章中的停用词\n",
    "from nltk.corpus import stopwords     #停用词\n",
    "from collections import Counter       #计数\n",
    "\n",
    "# 对原始的text文件去掉停用词\n",
    "# 生成count字典，即每个单词的出现次数\n",
    "def make_count(text):\n",
    "    tokens = get_tokens(text)\n",
    "    filtered = [w for w in tokens if not w in stopwords.words('english')]    #去掉停用词\n",
    "    count = Counter(filtered)\n",
    "    return count"
   ]
  },
  {
   "cell_type": "code",
   "execution_count": null,
   "id": "bb64d2d4-8b59-45b6-9780-eb1d63cfeca6",
   "metadata": {},
   "outputs": [],
   "source": []
  },
  {
   "cell_type": "markdown",
   "id": "5189043a-0c67-4b93-8106-a9113c0c648e",
   "metadata": {},
   "source": [
    "# Gensim 实现"
   ]
  },
  {
   "cell_type": "code",
   "execution_count": 5,
   "id": "7ec81a3f-bbc2-4325-bd13-4a672236d72b",
   "metadata": {},
   "outputs": [
    {
     "name": "stdout",
     "output_type": "stream",
     "text": [
      "count1:  ['Football', 'family', 'team', 'sports', 'involve', 'varying', 'degrees', 'kicking', 'ball', 'score', 'goal', 'Unqualified', 'word', 'football', 'understood', 'refer', 'whichever', 'form', 'football', 'popular', 'regional', 'context', 'word', 'appears', 'Sports', 'commonly', 'called', 'football', 'certain', 'places', 'include', 'association', 'football', 'known', 'soccer', 'countries', 'gridiron', 'football', 'specifically', 'American', 'football', 'Canadian', 'football', 'Australian', 'rules', 'football', 'rugby', 'football', 'either', 'rugby', 'league', 'rugby', 'union', 'Gaelic', 'football', 'These', 'different', 'variations', 'football', 'known', 'football', 'codes']\n",
      "=================================================\n",
      "new_dict:  {0: 'American', 1: 'Australian', 2: 'Canadian', 3: 'Football', 4: 'Gaelic', 5: 'Sports', 6: 'These', 7: 'Unqualified', 8: 'appears', 9: 'association', 10: 'ball', 11: 'called', 12: 'certain', 13: 'codes', 14: 'commonly', 15: 'context', 16: 'countries', 17: 'degrees', 18: 'different', 19: 'either', 20: 'family', 21: 'football', 22: 'form', 23: 'goal', 24: 'gridiron', 25: 'include', 26: 'involve', 27: 'kicking', 28: 'known', 29: 'league', 30: 'places', 31: 'popular', 32: 'refer', 33: 'regional', 34: 'rugby', 35: 'rules', 36: 'score', 37: 'soccer', 38: 'specifically', 39: 'sports', 40: 'team', 41: 'understood', 42: 'union', 43: 'variations', 44: 'varying', 45: 'whichever', 46: 'word', 47: \"'s\", 48: '10', 49: '18', 50: '24', 51: '3.048', 52: '46', 53: '9.4', 54: 'A', 55: 'After', 56: 'Basketball', 57: 'The', 58: 'additional', 59: 'another', 60: 'approximately', 61: 'backboard', 62: 'basket', 63: 'basketball', 64: 'behind', 65: 'cm', 66: 'compete', 67: 'court', 68: 'defender', 69: 'designated', 70: 'diameter', 71: 'end', 72: 'expires', 73: 'feet', 74: 'field', 75: 'five', 76: 'foul', 77: 'fouled', 78: 'free', 79: 'game', 80: 'given', 81: 'high', 82: 'hoop', 83: 'inches', 84: 'line', 85: 'made', 86: 'mandated', 87: 'mounted', 88: 'objective', 89: 'one', 90: 'one-point', 91: 'opposing', 92: 'overtime', 93: 'period', 94: 'play', 95: 'player', 96: 'players', 97: 'points', 98: 'preventing', 99: 'primary', 100: 'rectangular', 101: 'regulation', 102: 'shoot', 103: 'shooting', 104: 'sport', 105: 'stops', 106: 'teams', 107: 'technical', 108: 'three', 109: 'three-point', 110: 'throws', 111: 'tied', 112: 'timed', 113: 'two', 114: 'unless', 115: 'wins', 116: 'worth', 117: 'To', 118: 'Volleyball', 119: 'across', 120: 'allowed', 121: 'area', 122: 'back', 123: 'bat', 124: 'bats', 125: 'forth', 126: 'hands', 127: 'make', 128: 'may', 129: 'must', 130: 'net', 131: 'opponents', 132: 'played', 133: 'playing', 134: 'prevent', 135: 'returned', 136: 'side', 137: 'six', 138: 'surface—that', 139: 'teammate', 140: 'third', 141: 'touch', 142: 'touches', 143: 'toward', 144: 'trying', 145: 'use', 146: 'usually', 147: 'volley', 148: 'volleys', 149: 'within', 150: '’'}\n",
      "\n",
      "Training by gensim Tfidf Model.......\n",
      "\n",
      "Top words in document 1\n",
      "    Word: football, TF-IDF: 0.84766\n",
      "    Word: rugby, TF-IDF: 0.21192\n",
      "    Word: known, TF-IDF: 0.14128\n",
      "Top words in document 2\n",
      "    Word: play, TF-IDF: 0.29872\n",
      "    Word: cm, TF-IDF: 0.19915\n",
      "    Word: diameter, TF-IDF: 0.19915\n",
      "Top words in document 3\n",
      "    Word: net, TF-IDF: 0.45775\n",
      "    Word: teammate, TF-IDF: 0.34331\n",
      "    Word: across, TF-IDF: 0.22888\n"
     ]
    }
   ],
   "source": [
    "from nltk.corpus import stopwords     #停用词\n",
    "from gensim import corpora, models, matutils\n",
    "\n",
    "# training by gensim's Ifidf Model\n",
    "def get_words(text):\n",
    "    tokens = get_tokens(text)\n",
    "    filtered = [w for w in tokens if not w in stopwords.words('english')]\n",
    "    return filtered\n",
    "\n",
    "# get text\n",
    "count1, count2, count3 = get_words(text1), get_words(text2), get_words(text3)\n",
    "print(\"count1: \", count1)\n",
    "count_list = [count1, count2, count3]\n",
    "# training by TfidfModel in gensim\n",
    "# count_list 就是已经完成切词、停用词\n",
    "dictionary = corpora.Dictionary(count_list)\n",
    "# new_dict 词典展示\n",
    "new_dict = {v:k for k,v in dictionary.token2id.items()}\n",
    "print(\"=================================================\")\n",
    "print(\"new_dict: \", new_dict)\n",
    "# 针对每个text中的关键词进行编码\n",
    "corpus2 = [dictionary.doc2bow(count) for count in count_list]\n",
    "tfidf2 = models.TfidfModel(corpus2)\n",
    "corpus_tfidf = tfidf2[corpus2]\n",
    "\n",
    "# output\n",
    "print(\"\\nTraining by gensim Tfidf Model.......\\n\")\n",
    "for i, doc in enumerate(corpus_tfidf):\n",
    "    print(\"Top words in document %d\"%(i + 1))\n",
    "    sorted_words = sorted(doc, key=lambda x: x[1], reverse=True)    # type=list\n",
    "    for num, score in sorted_words[:3]:\n",
    "        print(\"    Word: %s, TF-IDF: %s\"%(new_dict[num], round(score, 5)))\n"
   ]
  },
  {
   "cell_type": "code",
   "execution_count": null,
   "id": "ff7c192f-1713-4657-912c-1922ece5894e",
   "metadata": {},
   "outputs": [],
   "source": []
  },
  {
   "cell_type": "code",
   "execution_count": null,
   "id": "bd55e709-8e2a-4dff-a920-4f8e1066eebb",
   "metadata": {},
   "outputs": [],
   "source": []
  },
  {
   "cell_type": "markdown",
   "id": "2eb77573-b98d-46be-ad2d-c30e3a1d7171",
   "metadata": {},
   "source": [
    "# 手动实现"
   ]
  },
  {
   "cell_type": "code",
   "execution_count": 6,
   "id": "37308ced-d01d-4e3a-a51a-773e3c679f37",
   "metadata": {},
   "outputs": [
    {
     "name": "stdout",
     "output_type": "stream",
     "text": [
      "count1:  Counter({'football': 12, 'rugby': 3, 'word': 2, 'known': 2, 'Football': 1, 'family': 1, 'team': 1, 'sports': 1, 'involve': 1, 'varying': 1, 'degrees': 1, 'kicking': 1, 'ball': 1, 'score': 1, 'goal': 1, 'Unqualified': 1, 'understood': 1, 'refer': 1, 'whichever': 1, 'form': 1, 'popular': 1, 'regional': 1, 'context': 1, 'appears': 1, 'Sports': 1, 'commonly': 1, 'called': 1, 'certain': 1, 'places': 1, 'include': 1, 'association': 1, 'soccer': 1, 'countries': 1, 'gridiron': 1, 'specifically': 1, 'American': 1, 'Canadian': 1, 'Australian': 1, 'rules': 1, 'either': 1, 'league': 1, 'union': 1, 'Gaelic': 1, 'These': 1, 'different': 1, 'variations': 1, 'codes': 1})\n",
      "Training by original algorithm......\n",
      "\n",
      "Top words in document 1\n",
      "    Word: football, TF-IDF: 0.84766\n",
      "    Word: rugby, TF-IDF: 0.21192\n",
      "    Word: word, TF-IDF: 0.14128\n",
      "Top words in document 2\n",
      "    Word: play, TF-IDF: 0.29872\n",
      "    Word: one, TF-IDF: 0.19915\n",
      "    Word: shooting, TF-IDF: 0.19915\n",
      "Top words in document 3\n",
      "    Word: net, TF-IDF: 0.45775\n",
      "    Word: teammate, TF-IDF: 0.34331\n",
      "    Word: bat, TF-IDF: 0.22888\n"
     ]
    }
   ],
   "source": [
    "import math\n",
    "\n",
    "# 计算tf\n",
    "def tf(word, count):\n",
    "    return count[word] / sum(count.values())\n",
    "# 计算count_list有多少个文件包含word\n",
    "def n_containing(word, count_list):\n",
    "    return sum(1 for count in count_list if word in count)\n",
    "\n",
    "# 计算idf\n",
    "def idf(word, count_list):\n",
    "    return math.log2(len(count_list) / (n_containing(word, count_list)))    #对数以2为底\n",
    "# 计算tf-idf\n",
    "def tfidf(word, count, count_list):\n",
    "    return tf(word, count) * idf(word, count_list)\n",
    "\n",
    "# 对向量做规范化, normalize\n",
    "def unitvec(sorted_words):\n",
    "    lst = [item[1] for item in sorted_words]\n",
    "    L2Norm = math.sqrt(sum(np.array(lst)*np.array(lst)))\n",
    "    unit_vector = [(item[0], item[1]/L2Norm) for item in sorted_words]\n",
    "    return unit_vector\n",
    "\n",
    "\n",
    "# TF-IDF测试\n",
    "count1, count2, count3 = make_count(text1), make_count(text2), make_count(text3)\n",
    "print(\"count1: \", count1)\n",
    "countlist = [count1, count2, count3]\n",
    "print(\"Training by original algorithm......\\n\")\n",
    "for i, count in enumerate(countlist):\n",
    "    print(\"Top words in document %d\"%(i + 1))\n",
    "    scores = {word: tfidf(word, count, countlist) for word in count}\n",
    "    sorted_words = sorted(scores.items(), key=lambda x: x[1], reverse=True)    #type=list\n",
    "    sorted_words = matutils.unitvec(sorted_words)\n",
    "    for word, score in sorted_words[:3]:\n",
    "        print(\"    Word: %s, TF-IDF: %s\"%(word, round(score, 5)))\n"
   ]
  },
  {
   "cell_type": "code",
   "execution_count": null,
   "id": "48ba56f7-a4f8-40a1-82be-98d81db7d712",
   "metadata": {},
   "outputs": [],
   "source": []
  }
 ],
 "metadata": {
  "kernelspec": {
   "display_name": "Python 3 (ipykernel)",
   "language": "python",
   "name": "python3"
  },
  "language_info": {
   "codemirror_mode": {
    "name": "ipython",
    "version": 3
   },
   "file_extension": ".py",
   "mimetype": "text/x-python",
   "name": "python",
   "nbconvert_exporter": "python",
   "pygments_lexer": "ipython3",
   "version": "3.9.12"
  }
 },
 "nbformat": 4,
 "nbformat_minor": 5
}
