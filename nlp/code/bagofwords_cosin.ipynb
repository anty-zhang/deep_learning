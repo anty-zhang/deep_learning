{
 "cells": [
  {
   "cell_type": "markdown",
   "id": "dfc31506-86f3-43ec-aaf7-67489125afa9",
   "metadata": {},
   "source": [
    "# 词袋模型及相似度"
   ]
  },
  {
   "cell_type": "code",
   "execution_count": 24,
   "id": "af4d0242-c639-4569-9403-2fdf7c8f6b9c",
   "metadata": {},
   "outputs": [],
   "source": [
    "# import nltk\n",
    "# nltk.download('punkt')\n",
    "from nltk import word_tokenize\n",
    "from math import sqrt"
   ]
  },
  {
   "cell_type": "code",
   "execution_count": 4,
   "id": "22a6d977-f7f5-4aa3-82cf-53df0c753fc3",
   "metadata": {},
   "outputs": [],
   "source": [
    "sent1 = \"I love sky, I love sea.\"\n",
    "sent2 = \"I like running, I love reading.\""
   ]
  },
  {
   "cell_type": "code",
   "execution_count": 14,
   "id": "64da7e7d-dbde-4bcb-9eae-24d5fb77f91c",
   "metadata": {},
   "outputs": [
    {
     "name": "stdout",
     "output_type": "stream",
     "text": [
      "texts: [['I', 'love', 'sky', ',', 'I', 'love', 'sea', '.'], ['I', 'like', 'running', ',', 'I', 'love', 'reading', '.']]\n"
     ]
    }
   ],
   "source": [
    "# word_tokenize 只能对英文进行分词，中文分词可以使用jieba进行分词\n",
    "sents = [sent1, sent2]\n",
    "texts = [[word for word in word_tokenize(sent)] for sent in sents]\n",
    "print(\"texts:\", texts)"
   ]
  },
  {
   "cell_type": "code",
   "execution_count": 16,
   "id": "d83ce4f0-cb95-4d29-abd1-a90f4b338d2d",
   "metadata": {},
   "outputs": [
    {
     "name": "stdout",
     "output_type": "stream",
     "text": [
      "{',', '.', 'like', 'love', 'sea', 'reading', 'running', 'sky', 'I'}\n"
     ]
    }
   ],
   "source": [
    "# 构建语料库\n",
    "all_list = []\n",
    "for text in texts:\n",
    "    all_list += text\n",
    "corpus = set(all_list)\n",
    "print(corpus)\n"
   ]
  },
  {
   "cell_type": "code",
   "execution_count": 21,
   "id": "3458b2e9-8db8-4713-9c3d-5ce5cbb4b32e",
   "metadata": {},
   "outputs": [
    {
     "name": "stdout",
     "output_type": "stream",
     "text": [
      "{',': 0, '.': 1, 'like': 2, 'love': 3, 'sea': 4, 'reading': 5, 'running': 6, 'sky': 7, 'I': 8}\n"
     ]
    }
   ],
   "source": [
    "# 语料库词典映射\n",
    "corpus_dict = dict(zip(corpus, range(len(corpus))))\n",
    "print(corpus_dict)"
   ]
  },
  {
   "cell_type": "code",
   "execution_count": 23,
   "id": "1d67f78a-b113-459d-9d8a-e435573600d7",
   "metadata": {},
   "outputs": [
    {
     "name": "stdout",
     "output_type": "stream",
     "text": [
      "vec1:  [(0, 1), (1, 1), (2, 0), (3, 2), (4, 1), (5, 0), (6, 0), (7, 1), (8, 2)]\n",
      "vec2:  [(0, 1), (1, 1), (2, 1), (3, 1), (4, 0), (5, 1), (6, 1), (7, 0), (8, 2)]\n"
     ]
    }
   ],
   "source": [
    "# 构建句子向量\n",
    "def sentense_vector(text, corpus_dict):\n",
    "    vec = []\n",
    "    for key in corpus_dict.keys():\n",
    "        if key in text:\n",
    "            vec.append((corpus_dict[key], text.count(key)))\n",
    "        else:\n",
    "            vec.append((corpus_dict[key], 0))\n",
    "    vec = sorted(vec, key=lambda x: x[0])\n",
    "    return vec\n",
    "\n",
    "vec1 = sentense_vector(texts[0], corpus_dict)\n",
    "vec2 = sentense_vector(texts[1], corpus_dict)\n",
    "print(\"vec1: \", vec1)\n",
    "print(\"vec2: \", vec2)"
   ]
  },
  {
   "cell_type": "code",
   "execution_count": 26,
   "id": "0021ff40-5442-4d08-bdef-88c3c69006c3",
   "metadata": {},
   "outputs": [
    {
     "name": "stdout",
     "output_type": "stream",
     "text": [
      "两个句子的余弦相似度为： 0.7303。\n"
     ]
    }
   ],
   "source": [
    "# 计算余弦相似度\n",
    "def similarity_with_2_vector(vec1, vec2):\n",
    "    inner_product = 0\n",
    "    square_length_vec1 = 0\n",
    "    square_length_vec2 = 0\n",
    "    for tup1, tup2 in zip(vec1, vec2):\n",
    "        inner_product += tup1[1] * tup2[1]\n",
    "        square_length_vec1 += tup1[1] ** 2\n",
    "        square_length_vec2 += tup2[1] ** 2\n",
    "    \n",
    "    return inner_product/sqrt(square_length_vec1*square_length_vec2)\n",
    "\n",
    "cosine_sim = similarity_with_2_vector(vec1, vec2)\n",
    "print('两个句子的余弦相似度为： %.4f。'%cosine_sim)"
   ]
  },
  {
   "cell_type": "code",
   "execution_count": null,
   "id": "298751ca-a435-4ace-8426-8d4431b6c533",
   "metadata": {},
   "outputs": [],
   "source": []
  },
  {
   "cell_type": "code",
   "execution_count": 27,
   "id": "afd8a97c-be80-4ba0-a0c5-ed84fa6f3915",
   "metadata": {},
   "outputs": [],
   "source": [
    "# 使用gensim包"
   ]
  },
  {
   "cell_type": "code",
   "execution_count": 28,
   "id": "b4a7d27d-84de-4d53-bb6f-d3cf6c238436",
   "metadata": {},
   "outputs": [],
   "source": [
    "from gensim import corpora\n",
    "from gensim.similarities import Similarity"
   ]
  },
  {
   "cell_type": "code",
   "execution_count": 33,
   "id": "a4ad2212-f14b-4119-9999-7dc667b21da5",
   "metadata": {},
   "outputs": [
    {
     "name": "stdout",
     "output_type": "stream",
     "text": [
      "type(dictionary):  <class 'gensim.corpora.dictionary.Dictionary'>\n",
      "dictionary:  Dictionary<9 unique tokens: [',', '.', 'I', 'love', 'sea']...>\n"
     ]
    }
   ],
   "source": [
    "# 语料库\n",
    "dictionary = corpora.Dictionary(texts)\n",
    "print(\"type(dictionary): \", type(dictionary))\n",
    "print(\"dictionary: \", dictionary)"
   ]
  },
  {
   "cell_type": "code",
   "execution_count": 37,
   "id": "1e458d9c-92b9-4dde-be3a-9f1137583c02",
   "metadata": {},
   "outputs": [
    {
     "name": "stdout",
     "output_type": "stream",
     "text": [
      "corpus:  [[(0, 1), (1, 1), (2, 2), (3, 2), (4, 1), (5, 1)], [(0, 1), (1, 1), (2, 2), (3, 1), (6, 1), (7, 1), (8, 1)]]\n",
      "similarity:  Similarity<2 documents in 0 shards stored under -Similarity-index>\n"
     ]
    }
   ],
   "source": [
    "# doc2bow 作为词袋模型\n",
    "corpus = [dictionary.doc2bow(text) for text in texts]\n",
    "similarity = Similarity('-Similarity-index', corpus, num_features=len(dictionary))\n",
    "\n",
    "print(\"corpus: \", corpus)\n",
    "print(\"similarity: \", similarity)"
   ]
  },
  {
   "cell_type": "code",
   "execution_count": 40,
   "id": "4ee702f1-4ce1-427b-85a0-9ad662952deb",
   "metadata": {},
   "outputs": [
    {
     "name": "stdout",
     "output_type": "stream",
     "text": [
      "利用gensim计算得到两个句子的相似度： 0.7303。\n"
     ]
    }
   ],
   "source": [
    "# 计算相似度\n",
    "new_sensence = sent1\n",
    "test_corpus_1 = dictionary.doc2bow(word_tokenize(new_sensence))\n",
    "\n",
    "cosine_sim = similarity[test_corpus_1][1]\n",
    "print(\"利用gensim计算得到两个句子的相似度： %.4f。\" % cosine_sim)"
   ]
  },
  {
   "cell_type": "code",
   "execution_count": 41,
   "id": "6471e268-2b04-49f9-b443-ccd9972cab55",
   "metadata": {},
   "outputs": [
    {
     "data": {
      "text/plain": [
       "array([0.99999994, 0.73029673], dtype=float32)"
      ]
     },
     "execution_count": 41,
     "metadata": {},
     "output_type": "execute_result"
    }
   ],
   "source": [
    "similarity[test_corpus_1]"
   ]
  },
  {
   "cell_type": "code",
   "execution_count": null,
   "id": "cc8a015b-a0e9-42fc-b252-7beedc8ba97f",
   "metadata": {},
   "outputs": [],
   "source": []
  }
 ],
 "metadata": {
  "kernelspec": {
   "display_name": "Python 3 (ipykernel)",
   "language": "python",
   "name": "python3"
  },
  "language_info": {
   "codemirror_mode": {
    "name": "ipython",
    "version": 3
   },
   "file_extension": ".py",
   "mimetype": "text/x-python",
   "name": "python",
   "nbconvert_exporter": "python",
   "pygments_lexer": "ipython3",
   "version": "3.9.12"
  }
 },
 "nbformat": 4,
 "nbformat_minor": 5
}
