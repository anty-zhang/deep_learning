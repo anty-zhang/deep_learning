{
 "cells": [
  {
   "cell_type": "code",
   "execution_count": 2,
   "metadata": {
    "collapsed": true
   },
   "outputs": [
    {
     "name": "stderr",
     "output_type": "stream",
     "text": [
      "/home/zhangguoqiang/genv/lib/python2.7/site-packages/sklearn/cross_validation.py:41: DeprecationWarning: This module was deprecated in version 0.18 in favor of the model_selection module into which all the refactored classes and functions are moved. Also note that the interface of the new CV iterators are different from that of this module. This module will be removed in 0.20.\n",
      "  \"This module will be removed in 0.20.\", DeprecationWarning)\n",
      "/home/zhangguoqiang/genv/lib/python2.7/site-packages/sklearn/grid_search.py:42: DeprecationWarning: This module was deprecated in version 0.18 in favor of the model_selection module into which all the refactored classes and functions are moved. This module will be removed in 0.20.\n",
      "  DeprecationWarning)\n"
     ]
    }
   ],
   "source": [
    "# https://www.analyticsvidhya.com/blog/2016/03/complete-guide-parameter-tuning-xgboost-with-codes-Python/\n",
    "# http://www.cnblogs.com/haobang008/p/5909207.html\n",
    "# xgboost 参数调优指南\n",
    "\n",
    "import pandas as pd\n",
    "import numpy as np\n",
    "import os\n",
    "import sys\n",
    "from datetime import datetime\n",
    "\n",
    "import xgboost as xgb\n",
    "from xgboost.sklearn import XGBClassifier\n",
    "from sklearn import cross_validation, metrics\n",
    "from sklearn.grid_search import GridSearchCV\n",
    "import matplotlib.pylab as plt\n",
    "%matplotlib inline\n",
    "from matplotlib.pylab import rcParams\n",
    "\n"
   ]
  },
  {
   "cell_type": "code",
   "execution_count": 3,
   "metadata": {
    "collapsed": true
   },
   "outputs": [],
   "source": [
    "def modelfit(alg, dtrain, predictors,useTrainCV=True, cv_folds=5, early_stopping_rounds=50):\n",
    "    \n",
    "    if useTrainCV:\n",
    "        xgb_param = alg.get_xgb_params()\n",
    "        xgtrain = xgb.DMatrix(dtrain[predictors].values, label=dtrain[target].values)\n",
    "        cvresult = xgb.cv(xgb_param, xgtrain, num_boost_round=alg.get_params()['n_estimators'], nfold=cv_folds,\n",
    "            metrics=['auc'], early_stopping_rounds=early_stopping_rounds)\n",
    "        alg.set_params(n_estimators=cvresult.shape[0])\n",
    "    \n",
    "    #Fit the algorithm on the data\n",
    "    alg.fit(dtrain[predictors], dtrain['Disbursed'],eval_metric='auc')\n",
    "        \n",
    "    #Predict training set:\n",
    "    dtrain_predictions = alg.predict(dtrain[predictors])\n",
    "    dtrain_predprob = alg.predict_proba(dtrain[predictors])[:,1]\n",
    "        \n",
    "    #Print model report:\n",
    "    print \"\\nModel Report\"\n",
    "    print \"Accuracy : %.4g\" % metrics.accuracy_score(dtrain['Disbursed'].values, dtrain_predictions)\n",
    "    print \"AUC Score (Train): %f\" % metrics.roc_auc_score(dtrain['Disbursed'], dtrain_predprob)\n",
    "                    \n",
    "    feat_imp = pd.Series(alg.booster().get_fscore()).sort_values(ascending=False)\n",
    "    feat_imp.plot(kind='bar', title='Feature Importances')\n",
    "    plt.ylabel('Feature Importance Score')"
   ]
  },
  {
   "cell_type": "code",
   "execution_count": 5,
   "metadata": {
    "scrolled": true
   },
   "outputs": [
    {
     "name": "stdout",
     "output_type": "stream",
     "text": [
      "file_name: /home/zhangguoqiang/code/shell/deeplearning/alg/xgbdt/data/train_modified.csv\n"
     ]
    },
    {
     "data": {
      "text/plain": [
       "<bound method DataFrame.first of        Disbursed  Existing_EMI           ID  Loan_Amount_Applied  \\\n",
       "0            0.0           0.0  ID000002C20             300000.0   \n",
       "1            0.0           0.0  ID000004E40             200000.0   \n",
       "2            0.0           0.0  ID000007H20             600000.0   \n",
       "3            0.0           0.0  ID000008I30            1000000.0   \n",
       "4            0.0       25000.0  ID000009J40             500000.0   \n",
       "5            0.0       15000.0  ID000010K00             300000.0   \n",
       "6            0.0           0.0  ID000011L10                  6.0   \n",
       "7            0.0        2597.0  ID000012M20             200000.0   \n",
       "8            0.0           0.0  ID000013N30                  0.0   \n",
       "9            0.0           0.0  ID000014O40             300000.0   \n",
       "10           0.0           0.0  ID000016Q10            1000000.0   \n",
       "11           0.0           0.0  ID000018S30             140000.0   \n",
       "12           0.0           0.0  ID000019T40             500000.0   \n",
       "13           0.0        4600.0  ID000021V10             200000.0   \n",
       "14           0.0        1200.0  ID000022W20             100000.0   \n",
       "15           0.0           0.0  ID000023X30             500000.0   \n",
       "16           0.0        2550.0  ID000024Y40             300000.0   \n",
       "17           0.0           0.0  ID000025Z00             100000.0   \n",
       "18           0.0        7000.0  ID000027B20             500000.0   \n",
       "19           0.0       10000.0  ID000028C30             500000.0   \n",
       "20           0.0           0.0  ID000029D40                  0.0   \n",
       "21           0.0           0.0  ID000031F10                  0.0   \n",
       "22           0.0           0.0  ID000032G20                  0.0   \n",
       "23           0.0        5000.0  ID000033H30            1000000.0   \n",
       "24           0.0           0.0  ID000034I40                  0.0   \n",
       "25           0.0           0.0  ID000035J00             300000.0   \n",
       "26           0.0           0.0  ID000037L20             300000.0   \n",
       "27           0.0           0.0  ID000040O00                  0.0   \n",
       "28           0.0           0.0  ID000041P10             100000.0   \n",
       "29           0.0           0.0  ID000043R30            1000000.0   \n",
       "...          ...           ...          ...                  ...   \n",
       "86990        0.0           0.0  ID124780G00                  0.0   \n",
       "86991        0.0           0.0  ID124782I20                  0.0   \n",
       "86992        0.0           0.0  ID124783J30              80000.0   \n",
       "86993        0.0           0.0  ID124785L00                  0.0   \n",
       "86994        0.0           0.0  ID124786M10             200000.0   \n",
       "86995        0.0       10000.0  ID124787N20                  0.0   \n",
       "86996        0.0           0.0  ID124788O30             500000.0   \n",
       "86997        0.0           0.0  ID124789P40             100000.0   \n",
       "86998        0.0           0.0  ID124790Q00                  0.0   \n",
       "86999        0.0        5000.0  ID124791R10             200000.0   \n",
       "87000        0.0       23648.0  ID124792S20             300000.0   \n",
       "87001        0.0           0.0  ID124793T30                  0.0   \n",
       "87002        0.0        5000.0  ID124794U40             100000.0   \n",
       "87003        0.0        8450.0  ID124795V00             700000.0   \n",
       "87004        0.0           0.0  ID124796W10            1000000.0   \n",
       "87005        0.0           0.0  ID124798Y30            1000000.0   \n",
       "87006        0.0        3500.0  ID124799Z40             100000.0   \n",
       "87007        0.0         500.0  ID124802C20             200000.0   \n",
       "87008        0.0           0.0  ID124803D30            1000000.0   \n",
       "87009        0.0       34000.0  ID124804E40             200000.0   \n",
       "87010        0.0           0.0  ID124806G10                  0.0   \n",
       "87011        0.0           0.0  ID124808I30                  0.0   \n",
       "87012        0.0           0.0  ID124810K00             300000.0   \n",
       "87013        0.0           0.0  ID124811L10             300000.0   \n",
       "87014        0.0           0.0  ID124812M20             400000.0   \n",
       "87015        0.0       14500.0  ID124813N30            1000000.0   \n",
       "87016        0.0           0.0  ID124814O40                  0.0   \n",
       "87017        0.0           0.0  ID124816Q10                  0.0   \n",
       "87018        0.0       13660.0  ID124818S30             800000.0   \n",
       "87019        0.0           0.0  ID124821V10                  0.0   \n",
       "\n",
       "       Loan_Tenure_Applied  Monthly_Income  Var4  Var5  Age  \\\n",
       "0                      5.0           20000     1     0   37   \n",
       "1                      2.0           35000     3    13   30   \n",
       "2                      4.0           22500     1     0   34   \n",
       "3                      5.0           35000     3    10   28   \n",
       "4                      2.0          100000     3    17   31   \n",
       "5                      5.0           45000     3    17   33   \n",
       "6                      5.0           70000     1     0   28   \n",
       "7                      5.0           20000     3     3   40   \n",
       "8                      0.0           75000     5    13   43   \n",
       "9                      3.0           30000     1     0   26   \n",
       "10                     5.0           25000     4    11   39   \n",
       "11                     4.0           25000     1     0   26   \n",
       "12                     4.0           24000     1     0   25   \n",
       "13                     5.0           27000     4    11   33   \n",
       "14                     1.0           28000     1     0   26   \n",
       "15                     3.0           42000     3    14   33   \n",
       "16                     5.0           28994     1     0   30   \n",
       "17                     5.0           20000     1     0   25   \n",
       "18                     5.0           33000     1     0   39   \n",
       "19                     5.0           31500     3    12   33   \n",
       "20                     0.0           60000     2     5   30   \n",
       "21                     0.0           16000     1     0   32   \n",
       "22                     0.0           12000     1     0   28   \n",
       "23                     5.0           30000     3    10   42   \n",
       "24                     0.0           45000     3    13   40   \n",
       "25                     1.0           45000     3    14   34   \n",
       "26                     2.0           22843     4     3   24   \n",
       "27                     0.0            2900     1     0   33   \n",
       "28                     2.0            8500     1     0   21   \n",
       "29                     0.0          200000     2    14   30   \n",
       "...                    ...             ...   ...   ...  ...   \n",
       "86990                  0.0           80000     5     3   42   \n",
       "86991                  0.0           80000     5     3   42   \n",
       "86992                  1.0           25000     7    11   23   \n",
       "86993                  0.0           35000     3     5   34   \n",
       "86994                  3.0           15000     4     1   31   \n",
       "86995                  0.0           30000     3     8   37   \n",
       "86996                  2.0           50000     3    12   29   \n",
       "86997                  2.0           32000     1     0   29   \n",
       "86998                  0.0           45000     5     6   59   \n",
       "86999                  2.0           13000     1     0   25   \n",
       "87000                  5.0           51524     1     0   53   \n",
       "87001                  0.0           53000     3     6   28   \n",
       "87002                  2.0           13000     1     0   25   \n",
       "87003                  0.0           40000     3     8   55   \n",
       "87004                  5.0           32000     7     7   37   \n",
       "87005                  5.0          116000     3     8   46   \n",
       "87006                  2.0           10000     1     0   26   \n",
       "87007                  3.0           15000     5     1   27   \n",
       "87008                  5.0           35000     5    11   34   \n",
       "87009                  0.0          133000     4    14   30   \n",
       "87010                  0.0           28000     5     2   42   \n",
       "87011                  0.0           15000     3     1   25   \n",
       "87012                  3.0           46000     4    15   30   \n",
       "87013                  3.0           24000     3     2   25   \n",
       "87014                  5.0           49000     3    14   33   \n",
       "87015                  5.0           71901     3     9   46   \n",
       "87016                  0.0           16000     5     1   25   \n",
       "87017                  0.0          118000     3     8   43   \n",
       "87018                  5.0           98930     3    18   38   \n",
       "87019                  0.0           42300     4    12   27   \n",
       "\n",
       "       EMI_Loan_Submitted_Missing    ...     Var2_2  Var2_3  Var2_4  Var2_5  \\\n",
       "0                               1    ...        0.0     0.0     0.0     0.0   \n",
       "1                               0    ...        0.0     0.0     0.0     0.0   \n",
       "2                               1    ...        0.0     0.0     0.0     0.0   \n",
       "3                               1    ...        0.0     0.0     0.0     0.0   \n",
       "4                               1    ...        0.0     0.0     0.0     0.0   \n",
       "5                               0    ...        0.0     0.0     0.0     0.0   \n",
       "6                               1    ...        0.0     0.0     0.0     0.0   \n",
       "7                               1    ...        0.0     0.0     0.0     0.0   \n",
       "8                               0    ...        1.0     0.0     0.0     0.0   \n",
       "9                               0    ...        0.0     0.0     0.0     0.0   \n",
       "10                              0    ...        0.0     0.0     0.0     0.0   \n",
       "11                              1    ...        0.0     0.0     0.0     0.0   \n",
       "12                              1    ...        0.0     0.0     0.0     0.0   \n",
       "13                              0    ...        0.0     0.0     0.0     0.0   \n",
       "14                              1    ...        0.0     0.0     0.0     0.0   \n",
       "15                              1    ...        0.0     0.0     0.0     0.0   \n",
       "16                              0    ...        0.0     0.0     1.0     0.0   \n",
       "17                              1    ...        0.0     0.0     0.0     0.0   \n",
       "18                              1    ...        0.0     0.0     1.0     0.0   \n",
       "19                              1    ...        0.0     0.0     1.0     0.0   \n",
       "20                              1    ...        0.0     0.0     0.0     1.0   \n",
       "21                              1    ...        1.0     0.0     0.0     0.0   \n",
       "22                              1    ...        1.0     0.0     0.0     0.0   \n",
       "23                              1    ...        0.0     0.0     1.0     0.0   \n",
       "24                              1    ...        0.0     0.0     1.0     0.0   \n",
       "25                              1    ...        0.0     0.0     0.0     0.0   \n",
       "26                              0    ...        0.0     0.0     1.0     0.0   \n",
       "27                              1    ...        1.0     0.0     0.0     0.0   \n",
       "28                              1    ...        0.0     0.0     0.0     0.0   \n",
       "29                              1    ...        0.0     0.0     0.0     0.0   \n",
       "...                           ...    ...        ...     ...     ...     ...   \n",
       "86990                           0    ...        0.0     0.0     0.0     0.0   \n",
       "86991                           0    ...        0.0     0.0     0.0     0.0   \n",
       "86992                           1    ...        0.0     0.0     0.0     0.0   \n",
       "86993                           1    ...        0.0     0.0     0.0     0.0   \n",
       "86994                           0    ...        0.0     0.0     0.0     0.0   \n",
       "86995                           1    ...        0.0     0.0     0.0     0.0   \n",
       "86996                           1    ...        0.0     0.0     0.0     0.0   \n",
       "86997                           1    ...        0.0     0.0     0.0     0.0   \n",
       "86998                           0    ...        0.0     0.0     0.0     0.0   \n",
       "86999                           1    ...        0.0     0.0     0.0     0.0   \n",
       "87000                           1    ...        0.0     0.0     0.0     0.0   \n",
       "87001                           1    ...        0.0     0.0     0.0     0.0   \n",
       "87002                           1    ...        0.0     0.0     0.0     0.0   \n",
       "87003                           1    ...        0.0     0.0     0.0     0.0   \n",
       "87004                           1    ...        0.0     0.0     0.0     0.0   \n",
       "87005                           0    ...        0.0     0.0     0.0     0.0   \n",
       "87006                           1    ...        0.0     0.0     0.0     0.0   \n",
       "87007                           0    ...        0.0     0.0     0.0     0.0   \n",
       "87008                           0    ...        0.0     0.0     0.0     0.0   \n",
       "87009                           0    ...        0.0     0.0     0.0     0.0   \n",
       "87010                           0    ...        0.0     0.0     0.0     0.0   \n",
       "87011                           1    ...        0.0     0.0     0.0     0.0   \n",
       "87012                           0    ...        0.0     0.0     0.0     0.0   \n",
       "87013                           1    ...        0.0     0.0     0.0     0.0   \n",
       "87014                           1    ...        0.0     0.0     0.0     0.0   \n",
       "87015                           1    ...        0.0     0.0     0.0     0.0   \n",
       "87016                           0    ...        0.0     0.0     0.0     0.0   \n",
       "87017                           1    ...        0.0     0.0     0.0     0.0   \n",
       "87018                           1    ...        0.0     0.0     0.0     0.0   \n",
       "87019                           0    ...        0.0     0.0     0.0     0.0   \n",
       "\n",
       "       Var2_6  Mobile_Verified_0  Mobile_Verified_1  Source_0  Source_1  \\\n",
       "0         1.0                1.0                0.0       1.0       0.0   \n",
       "1         1.0                0.0                1.0       1.0       0.0   \n",
       "2         0.0                0.0                1.0       0.0       0.0   \n",
       "3         0.0                0.0                1.0       0.0       0.0   \n",
       "4         0.0                0.0                1.0       0.0       0.0   \n",
       "5         0.0                0.0                1.0       0.0       0.0   \n",
       "6         0.0                1.0                0.0       0.0       1.0   \n",
       "7         0.0                0.0                1.0       0.0       0.0   \n",
       "8         0.0                0.0                1.0       1.0       0.0   \n",
       "9         0.0                0.0                1.0       0.0       1.0   \n",
       "10        0.0                0.0                1.0       0.0       1.0   \n",
       "11        0.0                1.0                0.0       1.0       0.0   \n",
       "12        0.0                1.0                0.0       0.0       1.0   \n",
       "13        0.0                0.0                1.0       0.0       1.0   \n",
       "14        0.0                1.0                0.0       0.0       0.0   \n",
       "15        0.0                0.0                1.0       0.0       0.0   \n",
       "16        0.0                0.0                1.0       1.0       0.0   \n",
       "17        0.0                1.0                0.0       1.0       0.0   \n",
       "18        0.0                1.0                0.0       0.0       1.0   \n",
       "19        0.0                0.0                1.0       0.0       1.0   \n",
       "20        0.0                0.0                1.0       0.0       1.0   \n",
       "21        0.0                1.0                0.0       0.0       1.0   \n",
       "22        0.0                1.0                0.0       0.0       1.0   \n",
       "23        0.0                0.0                1.0       0.0       1.0   \n",
       "24        0.0                0.0                1.0       0.0       1.0   \n",
       "25        0.0                1.0                0.0       0.0       1.0   \n",
       "26        0.0                0.0                1.0       0.0       1.0   \n",
       "27        0.0                1.0                0.0       0.0       1.0   \n",
       "28        0.0                1.0                0.0       0.0       1.0   \n",
       "29        0.0                0.0                1.0       0.0       0.0   \n",
       "...       ...                ...                ...       ...       ...   \n",
       "86990     1.0                0.0                1.0       1.0       0.0   \n",
       "86991     1.0                0.0                1.0       1.0       0.0   \n",
       "86992     1.0                1.0                0.0       1.0       0.0   \n",
       "86993     1.0                0.0                1.0       1.0       0.0   \n",
       "86994     1.0                0.0                1.0       1.0       0.0   \n",
       "86995     1.0                0.0                1.0       1.0       0.0   \n",
       "86996     1.0                0.0                1.0       1.0       0.0   \n",
       "86997     1.0                0.0                1.0       1.0       0.0   \n",
       "86998     1.0                0.0                1.0       1.0       0.0   \n",
       "86999     1.0                1.0                0.0       1.0       0.0   \n",
       "87000     1.0                1.0                0.0       1.0       0.0   \n",
       "87001     1.0                0.0                1.0       1.0       0.0   \n",
       "87002     1.0                1.0                0.0       1.0       0.0   \n",
       "87003     1.0                0.0                1.0       1.0       0.0   \n",
       "87004     1.0                0.0                1.0       1.0       0.0   \n",
       "87005     1.0                0.0                1.0       1.0       0.0   \n",
       "87006     1.0                1.0                0.0       1.0       0.0   \n",
       "87007     1.0                0.0                1.0       1.0       0.0   \n",
       "87008     1.0                0.0                1.0       1.0       0.0   \n",
       "87009     1.0                0.0                1.0       1.0       0.0   \n",
       "87010     1.0                0.0                1.0       1.0       0.0   \n",
       "87011     1.0                0.0                1.0       1.0       0.0   \n",
       "87012     1.0                0.0                1.0       1.0       0.0   \n",
       "87013     1.0                0.0                1.0       1.0       0.0   \n",
       "87014     1.0                1.0                0.0       1.0       0.0   \n",
       "87015     1.0                1.0                0.0       1.0       0.0   \n",
       "87016     1.0                0.0                1.0       1.0       0.0   \n",
       "87017     1.0                0.0                1.0       1.0       0.0   \n",
       "87018     1.0                0.0                1.0       1.0       0.0   \n",
       "87019     1.0                0.0                1.0       1.0       0.0   \n",
       "\n",
       "       Source_2  \n",
       "0           0.0  \n",
       "1           0.0  \n",
       "2           1.0  \n",
       "3           1.0  \n",
       "4           1.0  \n",
       "5           1.0  \n",
       "6           0.0  \n",
       "7           1.0  \n",
       "8           0.0  \n",
       "9           0.0  \n",
       "10          0.0  \n",
       "11          0.0  \n",
       "12          0.0  \n",
       "13          0.0  \n",
       "14          1.0  \n",
       "15          1.0  \n",
       "16          0.0  \n",
       "17          0.0  \n",
       "18          0.0  \n",
       "19          0.0  \n",
       "20          0.0  \n",
       "21          0.0  \n",
       "22          0.0  \n",
       "23          0.0  \n",
       "24          0.0  \n",
       "25          0.0  \n",
       "26          0.0  \n",
       "27          0.0  \n",
       "28          0.0  \n",
       "29          1.0  \n",
       "...         ...  \n",
       "86990       0.0  \n",
       "86991       0.0  \n",
       "86992       0.0  \n",
       "86993       0.0  \n",
       "86994       0.0  \n",
       "86995       0.0  \n",
       "86996       0.0  \n",
       "86997       0.0  \n",
       "86998       0.0  \n",
       "86999       0.0  \n",
       "87000       0.0  \n",
       "87001       0.0  \n",
       "87002       0.0  \n",
       "87003       0.0  \n",
       "87004       0.0  \n",
       "87005       0.0  \n",
       "87006       0.0  \n",
       "87007       0.0  \n",
       "87008       0.0  \n",
       "87009       0.0  \n",
       "87010       0.0  \n",
       "87011       0.0  \n",
       "87012       0.0  \n",
       "87013       0.0  \n",
       "87014       0.0  \n",
       "87015       0.0  \n",
       "87016       0.0  \n",
       "87017       0.0  \n",
       "87018       0.0  \n",
       "87019       0.0  \n",
       "\n",
       "[87020 rows x 51 columns]>"
      ]
     },
     "execution_count": 5,
     "metadata": {},
     "output_type": "execute_result"
    }
   ],
   "source": [
    "# train model\n",
    "rcParams['figure.figsize'] = 12, 4\n",
    "home_dir = os.getcwd()\n",
    "file_name = os.path.join(home_dir, 'data/train_modified.csv')\n",
    "print \"file_name:\", file_name\n",
    "\n",
    "train_data = pd.read_csv(file_name)\n",
    "target = \"Disbursed\"\n",
    "idCol = \"ID\"\n",
    "train_data.first"
   ]
  },
  {
   "cell_type": "markdown",
   "metadata": {},
   "source": [
    "### Step 1: fix learning rate and number of estimators for tuning tree-based paramters"
   ]
  },
  {
   "cell_type": "code",
   "execution_count": 6,
   "metadata": {},
   "outputs": [
    {
     "data": {
      "text/plain": [
       "Disbursed                        float64\n",
       "Existing_EMI                     float64\n",
       "ID                                object\n",
       "Loan_Amount_Applied              float64\n",
       "Loan_Tenure_Applied              float64\n",
       "Monthly_Income                     int64\n",
       "Var4                               int64\n",
       "Var5                               int64\n",
       "Age                                int64\n",
       "EMI_Loan_Submitted_Missing         int64\n",
       "Interest_Rate_Missing              int64\n",
       "Loan_Amount_Submitted_Missing      int64\n",
       "Loan_Tenure_Submitted_Missing      int64\n",
       "Processing_Fee_Missing             int64\n",
       "Device_Type_0                    float64\n",
       "Device_Type_1                    float64\n",
       "Filled_Form_0                    float64\n",
       "Filled_Form_1                    float64\n",
       "Gender_0                         float64\n",
       "Gender_1                         float64\n",
       "Var1_0                           float64\n",
       "Var1_1                           float64\n",
       "Var1_2                           float64\n",
       "Var1_3                           float64\n",
       "Var1_4                           float64\n",
       "Var1_5                           float64\n",
       "Var1_6                           float64\n",
       "Var1_7                           float64\n",
       "Var1_8                           float64\n",
       "Var1_9                           float64\n",
       "Var1_10                          float64\n",
       "Var1_11                          float64\n",
       "Var1_12                          float64\n",
       "Var1_13                          float64\n",
       "Var1_14                          float64\n",
       "Var1_15                          float64\n",
       "Var1_16                          float64\n",
       "Var1_17                          float64\n",
       "Var1_18                          float64\n",
       "Var2_0                           float64\n",
       "Var2_1                           float64\n",
       "Var2_2                           float64\n",
       "Var2_3                           float64\n",
       "Var2_4                           float64\n",
       "Var2_5                           float64\n",
       "Var2_6                           float64\n",
       "Mobile_Verified_0                float64\n",
       "Mobile_Verified_1                float64\n",
       "Source_0                         float64\n",
       "Source_1                         float64\n",
       "Source_2                         float64\n",
       "dtype: object"
      ]
     },
     "execution_count": 6,
     "metadata": {},
     "output_type": "execute_result"
    }
   ],
   "source": [
    "train_data.dtypes"
   ]
  },
  {
   "cell_type": "code",
   "execution_count": 7,
   "metadata": {},
   "outputs": [
    {
     "data": {
      "text/plain": [
       "49"
      ]
     },
     "execution_count": 7,
     "metadata": {},
     "output_type": "execute_result"
    }
   ],
   "source": [
    "predictors = [x for x in train_data.columns if x not in [target, idCol]]\n",
    "len(predictors)"
   ]
  },
  {
   "cell_type": "code",
   "execution_count": null,
   "metadata": {
    "scrolled": true
   },
   "outputs": [
    {
     "name": "stdout",
     "output_type": "stream",
     "text": [
      "\n",
      "Model Report\n",
      "Accuracy : 0.9854\n",
      "AUC Score (Train): 0.891681\n",
      "XGBClassifier modelfit end cost time:  22.308113\n"
     ]
    },
    {
     "data": {
      "image/png": "[encoded data removed]",
      "text/plain": [
       "<matplotlib.figure.Figure at 0x79eef50>"
      ]
     },
     "metadata": {},
     "output_type": "display_data"
    }
   ],
   "source": [
    "# Choose all predictors except target & IDcols\n",
    "start_time = datetime.now()\n",
    "predictors = [x for x in train_data.columns if x not in [target, idCol]]\n",
    "xgb1 = XGBClassifier(\n",
    " learning_rate =0.1,\n",
    " n_estimators=1000,\n",
    " max_depth=5,\n",
    " min_child_weight=1,\n",
    " gamma=0,\n",
    " subsample=0.8,\n",
    " colsample_bytree=0.8,\n",
    " objective= 'binary:logistic',\n",
    " nthread=8,\n",
    " scale_pos_weight=1,\n",
    " seed=27)\n",
    "modelfit(xgb1, train_data, predictors)\n",
    "\n",
    "print \"XGBClassifier modelfit end cost time: \", (datetime.now()-start_time).total_seconds()"
   ]
  },
  {
   "cell_type": "markdown",
   "metadata": {},
   "source": [
    "### step 2: Tune max_depth and min_child_weight\n",
    "\n",
    "> max_depth 和min_child_weight 对模型输出会产生比较大影响"
   ]
  },
  {
   "cell_type": "code",
   "execution_count": 9,
   "metadata": {},
   "outputs": [
    {
     "name": "stdout",
     "output_type": "stream",
     "text": [
      "gsearch end_time1:  0.000351\n"
     ]
    }
   ],
   "source": [
    "# 此部分使用高负荷的网格搜索\n",
    "\n",
    "param_test1 = {\n",
    " 'max_depth':range(3,10,2),\n",
    " 'min_child_weight':range(1,6,2)\n",
    "}\n",
    "\n",
    "start_time = datetime.now()\n",
    "# XGBClassifier 学习率和step 1 一样，estimators调整为140\n",
    "gsearch1 = GridSearchCV(estimator=XGBClassifier(learning_rate=0.1,\n",
    "                                                n_estimators=140,\n",
    "                                                max_depth=5,\n",
    "                                                 min_child_weight=1,\n",
    "                                                gamma=0,\n",
    "                                                subsample=0.8,\n",
    "                                                colsample_bytree=0.8,\n",
    "                                                objective= 'binary:logistic',\n",
    "                                                nthread=7,\n",
    "                                                scale_pos_weight=1,\n",
    "                                                seed=27), \n",
    "                        param_grid = param_test1,\n",
    "                        scoring='roc_auc',\n",
    "                        n_jobs=7,\n",
    "                        iid=False,\n",
    "                        cv=5)\n",
    "print \"gsearch end_time1: \", (datetime.now() - start_time).total_seconds()\n",
    "\n"
   ]
  },
  {
   "cell_type": "code",
   "execution_count": null,
   "metadata": {
    "collapsed": true
   },
   "outputs": [],
   "source": [
    "gsearch1.fit(train_data[predictors],train_data[target])\n",
    "print \"gsearch end_time2: \", (datetime.now() - start_time).total_seconds()\n",
    "gsearch1.grid_scores_, gsearch1.best_params_, gsearch1.best_score_"
   ]
  },
  {
   "cell_type": "code",
   "execution_count": null,
   "metadata": {
    "collapsed": true
   },
   "outputs": [],
   "source": [
    "\n",
    "param_test2 = {\n",
    " 'max_depth':[4,5,6],\n",
    " 'min_child_weight':[4,5,6]\n",
    "}\n",
    "gsearch2 = GridSearchCV(estimator=XGBClassifier(learning_rate=0.1,\n",
    "                                                n_estimators=140,\n",
    "                                                max_depth=5,\n",
    "                                                min_child_weight=2,\n",
    "                                                gamma=0,\n",
    "                                                subsample=0.8,\n",
    "                                                colsample_bytree=0.8,\n",
    "                                                objective= 'binary:logistic',\n",
    "                                                nthread=8,\n",
    "                                                scale_pos_weight=1,\n",
    "                                                seed=27), \n",
    "                        param_grid = param_test2,\n",
    "                        scoring='roc_auc',\n",
    "                        n_jobs=8,\n",
    "                        iid=False,\n",
    "                        cv=5)\n",
    "gsearch2.fit(train_data[predictors],train_data[target])\n",
    "gsearch2.grid_scores_, gsearch2.best_params_, gsearch2.best_score_"
   ]
  },
  {
   "cell_type": "code",
   "execution_count": null,
   "metadata": {
    "collapsed": true
   },
   "outputs": [],
   "source": [
    "param_test2b = {\n",
    " 'min_child_weight':[6,8,10,12]\n",
    "}\n",
    "gsearch2b = GridSearchCV(estimator=XGBClassifier(learning_rate=0.1,\n",
    "                                                 n_estimators=140,\n",
    "                                                 max_depth=4,\n",
    "                                                 min_child_weight=2,\n",
    "                                                 gamma=0,\n",
    "                                                 subsample=0.8,\n",
    "                                                 colsample_bytree=0.8,\n",
    "                                                 objective= 'binary:logistic',\n",
    "                                                 nthread=4, \n",
    "                                                 scale_pos_weight=1,\n",
    "                                                 seed=27), \n",
    "                         param_grid = param_test2b,\n",
    "                         scoring='roc_auc',\n",
    "                         n_jobs=4,\n",
    "                         iid=False,\n",
    "                         cv=5)\n",
    "gsearch2b.fit(train_data[predictors],train_data[target])\n",
    "\n",
    "modelfit(gsearch3.best_estimator_, train_data, predictors)\n",
    "gsearch2b.grid_scores_, gsearch2b.best_params_, gsearch2b.best_score_\n"
   ]
  },
  {
   "cell_type": "markdown",
   "metadata": {
    "collapsed": true
   },
   "source": [
    "### step3 : Tune gamma"
   ]
  },
  {
   "cell_type": "code",
   "execution_count": null,
   "metadata": {
    "collapsed": true
   },
   "outputs": [],
   "source": [
    "# 从结果看， gamma初始值为0是最合适的\n",
    "\n",
    "param_test3 = {\n",
    " 'gamma':[i/10.0 for i in range(0,5)]\n",
    "}\n",
    "gsearch3 = GridSearchCV(estimator = XGBClassifier(learning_rate =0.1,\n",
    "                                                  n_estimators=140,\n",
    "                                                  max_depth=4,\n",
    "                                                  min_child_weight=6,\n",
    "                                                  gamma=0,\n",
    "                                                  subsample=0.8,\n",
    "                                                  colsample_bytree=0.8,\n",
    "                                                  objective= 'binary:logistic',\n",
    "                                                  nthread=7,\n",
    "                                                  scale_pos_weight=1,seed=27), \n",
    "                        param_grid = param_test3,\n",
    "                        scoring='roc_auc',\n",
    "                        n_jobs=7,\n",
    "                        iid=False,\n",
    "                        cv=5)\n",
    "gsearch3.fit(train_data[predictors],train_data[target])\n",
    "gsearch3.grid_scores_, gsearch3.best_params_, gsearch3.best_score_"
   ]
  },
  {
   "cell_type": "markdown",
   "metadata": {},
   "source": [
    "# step 4: tune subsample and colsample_bytee\n",
    "\n",
    "> subsample 和GBM中的参数一样，用于控制每棵树的随机采样的比例\n",
    "\n",
    "> colsample_bybtree 和GBM中的max_features中的参数一样，用于控制每棵树，随机采样的列数的占比(每一列是一个特征)"
   ]
  },
  {
   "cell_type": "code",
   "execution_count": null,
   "metadata": {
    "collapsed": true
   },
   "outputs": [],
   "source": [
    "param_test4 = {\n",
    " 'subsample':[i/10.0 for i in range(6,10)],\n",
    " 'colsample_bytree':[i/10.0 for i in range(6,10)]\n",
    "}\n",
    "gsearch4 = GridSearchCV(estimator = XGBClassifier(learning_rate =0.1,\n",
    "                                                  n_estimators=177,\n",
    "                                                  max_depth=4,\n",
    "                                                  min_child_weight=6,\n",
    "                                                  gamma=0,\n",
    "                                                  subsample=0.8,\n",
    "                                                  colsample_bytree=0.8,\n",
    "                                                  objective= 'binary:logistic',\n",
    "                                                  nthread=7,\n",
    "                                                  scale_pos_weight=1,\n",
    "                                                  seed=27), \n",
    "                        param_grid = param_test4, \n",
    "                        scoring='roc_auc',\n",
    "                        n_jobs=7,\n",
    "                        iid=False,\n",
    "                        cv=5)\n",
    "gsearch4.fit(train[predictors],train[target])\n",
    "gsearch4.grid_scores_, gsearch4.best_params_, gsearch4.best_score_"
   ]
  },
  {
   "cell_type": "code",
   "execution_count": null,
   "metadata": {
    "collapsed": true
   },
   "outputs": [],
   "source": [
    "# 步长设置为0.05\n",
    "param_test5 = {\n",
    " 'subsample':[i/100.0 for i in range(75,90,5)],\n",
    " 'colsample_bytree':[i/100.0 for i in range(75,90,5)]\n",
    "}\n",
    "gsearch5 = GridSearchCV(estimator = XGBClassifier(learning_rate =0.1,\n",
    "                                                  n_estimators=177,\n",
    "                                                  max_depth=4,\n",
    "                                                  min_child_weight=6,\n",
    "                                                  gamma=0,\n",
    "                                                  subsample=0.8,\n",
    "                                                  colsample_bytree=0.8,\n",
    "                                                  objective= 'binary:logistic',\n",
    "                                                  nthread=4,\n",
    "                                                  scale_pos_weight=1,\n",
    "                                                  seed=27), \n",
    "                        param_grid = param_test5,\n",
    "                        scoring='roc_auc',\n",
    "                        n_jobs=4,\n",
    "                        iid=False,\n",
    "                        cv=5)\n",
    "gsearch5.fit(train[predictors],train[target])\n",
    "gsearch5.grid_scores_, gsearch5.best_params_, gsearch5.best_score_"
   ]
  },
  {
   "cell_type": "markdown",
   "metadata": {},
   "source": [
    "# step 5: tuning regularization parameters\n",
    "\n",
    "> 由于xgboost提供了gamma参数用于空值过拟合，因此，正则化参数很少用到\n",
    "\n",
    "> 调整参数，先是在一个大的范围内调整，然后在某个值小范围调整"
   ]
  },
  {
   "cell_type": "code",
   "execution_count": null,
   "metadata": {
    "collapsed": true
   },
   "outputs": [],
   "source": [
    "param_test6 = {\n",
    " 'reg_alpha':[1e-5, 1e-2, 0.1, 1, 100]\n",
    "}\n",
    "gsearch6 = GridSearchCV(estimator = XGBClassifier( learning_rate =0.1, n_estimators=177, max_depth=4,\n",
    " min_child_weight=6, gamma=0.1, subsample=0.8, colsample_bytree=0.8,\n",
    " objective= 'binary:logistic', nthread=4, scale_pos_weight=1,seed=27), \n",
    " param_grid = param_test6, scoring='roc_auc',n_jobs=4,iid=False, cv=5)\n",
    "gsearch6.fit(train[predictors],train[target])\n",
    "gsearch6.grid_scores_, gsearch6.best_params_, gsearch6.best_score_"
   ]
  },
  {
   "cell_type": "code",
   "execution_count": null,
   "metadata": {
    "collapsed": true
   },
   "outputs": [],
   "source": [
    "param_test7 = {\n",
    " 'reg_alpha':[0, 0.001, 0.005, 0.01, 0.05]\n",
    "}\n",
    "gsearch7 = GridSearchCV(estimator = XGBClassifier( learning_rate =0.1, n_estimators=177, max_depth=4,\n",
    " min_child_weight=6, gamma=0.1, subsample=0.8, colsample_bytree=0.8,\n",
    " objective= 'binary:logistic', nthread=4, scale_pos_weight=1,seed=27), \n",
    " param_grid = param_test7, scoring='roc_auc',n_jobs=4,iid=False, cv=5)\n",
    "gsearch7.fit(train[predictors],train[target])\n",
    "gsearch7.grid_scores_, gsearch7.best_params_, gsearch7.best_score_"
   ]
  },
  {
   "cell_type": "code",
   "execution_count": null,
   "metadata": {
    "collapsed": true
   },
   "outputs": [],
   "source": [
    "xgb3 = XGBClassifier(\n",
    " learning_rate =0.1,\n",
    " n_estimators=1000,\n",
    " max_depth=4,\n",
    " min_child_weight=6,\n",
    " gamma=0,\n",
    " subsample=0.8,\n",
    " colsample_bytree=0.8,\n",
    " reg_alpha=0.005,\n",
    " objective= 'binary:logistic',\n",
    " nthread=4,\n",
    " scale_pos_weight=1,\n",
    " seed=27)\n",
    "modelfit(xgb3, train, predictors)\n"
   ]
  },
  {
   "cell_type": "markdown",
   "metadata": {},
   "source": [
    "# step 6: reducing learning rate\n",
    "\n",
    "> 最后一步，降低学习率，可以使用XGBoost中的cv函数来实现\n"
   ]
  },
  {
   "cell_type": "code",
   "execution_count": null,
   "metadata": {
    "collapsed": true
   },
   "outputs": [],
   "source": [
    "xgb4 = XGBClassifier(\n",
    " learning_rate =0.01,\n",
    " n_estimators=5000,\n",
    " max_depth=4,\n",
    " min_child_weight=6,\n",
    " gamma=0,\n",
    " subsample=0.8,\n",
    " colsample_bytree=0.8,\n",
    " reg_alpha=0.005,\n",
    " objective= 'binary:logistic',\n",
    " nthread=4,\n",
    " scale_pos_weight=1,\n",
    " seed=27)\n",
    "modelfit(xgb4, train, predictors)"
   ]
  },
  {
   "cell_type": "markdown",
   "metadata": {},
   "source": [
    "### 分享两个重要的思想\n",
    "\n",
    "> 1. 仅仅靠参数调整和模型的小幅优化，想让模型性能有质的提升是不可能的\n",
    "\n",
    "> 2. 想让模型有质的飞跃需要其它手段，例如feature engineering(特征工程), ensemble of models(组合模型), stacking(堆叠等)"
   ]
  },
  {
   "cell_type": "code",
   "execution_count": null,
   "metadata": {
    "collapsed": true
   },
   "outputs": [],
   "source": []
  },
  {
   "cell_type": "code",
   "execution_count": null,
   "metadata": {
    "collapsed": true
   },
   "outputs": [],
   "source": []
  }
 ],
 "metadata": {
  "kernelspec": {
   "display_name": "Python 2",
   "language": "python",
   "name": "python2"
  },
  "language_info": {
   "codemirror_mode": {
    "name": "ipython",
    "version": 2
   },
   "file_extension": ".py",
   "mimetype": "text/x-python",
   "name": "python",
   "nbconvert_exporter": "python",
   "pygments_lexer": "ipython2",
   "version": "2.7.5"
  }
 },
 "nbformat": 4,
 "nbformat_minor": 2
}
