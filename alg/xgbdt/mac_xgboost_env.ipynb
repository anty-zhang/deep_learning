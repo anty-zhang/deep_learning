{
 "cells": [
  {
   "cell_type": "markdown",
   "metadata": {},
   "source": [
    "# mac install xgboost\n",
    "\n",
    "## 异常问题与解决\n",
    "\n",
    "### 问题描述\n",
    "```bash\n",
    "(env) bogon:book xxx$ pip install xgboost\n",
    "Collecting xgboost\n",
    "  Downloading http://pypi.doubanio.com/packages/34/85/456a1a8c762f646671043e446a59efbce02b5f408f522c4ef8793e860c5e/xgboost-0.6a2.tar.gz (1.2MB)\n",
    "    100% |████████████████████████████████| 1.2MB 2.9MB/s\n",
    "    Complete output from command python setup.py egg_info:\n",
    "    rm -f -rf build build_plugin lib bin *~ */*~ */*/*~ */*/*/*~ */*.o */*/*.o */*/*/*.o xgboost\n",
    "    clang-omp++ -std=c++0x -Wall -O3 -msse2  -Wno-unknown-pragmas -funroll-loops -Iinclude   -Idmlc-core/include -Irabit/include -fPIC -fopenmp -MM -MT build/learner.o src/learner.cc >build/learner.d\n",
    "    /bin/sh: clang-omp++: command not found\n",
    "    make: *** [build/learner.o] Error 127\n",
    "    make: *** Waiting for unfinished jobs....\n",
    "    clang-omp++ -std=c++0x -Wall -O3 -msse2  -Wno-unknown-pragmas -funroll-loops -Iinclude   -Idmlc-core/include -Irabit/include -fPIC -fopenmp -MM -MT build/logging.o src/logging.cc >build/logging.d\n",
    "    /bin/sh: clang-omp++: command not found\n",
    "    make: *** [build/logging.o] Error 127\n",
    "    -----------------------------\n",
    "    Building multi-thread xgboost failed\n",
    "    Start to build single-thread xgboost\n",
    "    rm -f -rf build build_plugin lib bin *~ */*~ */*/*~ */*/*/*~ */*.o */*/*.o */*/*/*.o xgboost\n",
    "    clang-omp++ -std=c++0x -Wall -O3 -msse2  -Wno-unknown-pragmas -funroll-loops -Iinclude   -Idmlc-core/include -Irabit/include -fPIC -fopenmp -MM -MT build/learner.o src/learner.cc >build/learner.d\n",
    "    /bin/sh: clang-omp++: command not found\n",
    "    clang-omp++ -std=c++0x -Wall -O3 -msse2  -Wno-unknown-pragmas -funroll-loops -Iinclude   -Idmlc-core/include -Irabit/include -fPIC -fopenmp -MM -MT build/logging.o src/logging.cc >build/logging.d\n",
    "    make: *** [build/learner.o] Error 127\n",
    "    make: *** Waiting for unfinished jobs....\n",
    "    /bin/sh: clang-omp++: command not found\n",
    "    make: *** [build/logging.o] Error 127\n",
    "    Successfully build single-thread xgboost\n",
    "    If you want multi-threaded version\n",
    "    See additional instructions in doc/build.md\n",
    "    Traceback (most recent call last):\n",
    "      File \"<string>\", line 1, in <module>\n",
    "      File \"/private/var/folders/fp/wsdg5lx93kb5yhn8lt52cxs40000gn/T/pip-build-Pq1cvA/xgboost/setup.py\", line 29, in <module>\n",
    "        LIB_PATH = libpath['find_lib_path']()\n",
    "      File \"/private/var/folders/fp/wsdg5lx93kb5yhn8lt52cxs40000gn/T/pip-build-Pq1cvA/xgboost/xgboost/libpath.py\", line 45, in find_lib_path\n",
    "        'List of candidates:\\n' + ('\\n'.join(dll_path)))\n",
    "    __builtin__.XGBoostLibraryNotFound: Cannot find XGBoost Libarary in the candicate path, did you install compilers and run build.sh in root path?\n",
    "    List of candidates:\n",
    "    /private/var/folders/fp/wsdg5lx93kb5yhn8lt52cxs40000gn/T/pip-build-Pq1cvA/xgboost/xgboost/libxgboost.so\n",
    "    /private/var/folders/fp/wsdg5lx93kb5yhn8lt52cxs40000gn/T/pip-build-Pq1cvA/xgboost/xgboost/../../lib/libxgboost.so\n",
    "    /private/var/folders/fp/wsdg5lx93kb5yhn8lt52cxs40000gn/T/pip-build-Pq1cvA/xgboost/xgboost/./lib/libxgboost.so\n",
    "    \n",
    "```\n",
    "\n",
    "### 问题解决\n",
    "```bash\n",
    "brew install gcc@5\n",
    "pip inst\n",
    "\n",
    "```"
   ]
  }
 ],
 "metadata": {
  "kernelspec": {
   "display_name": "Python 2",
   "language": "python",
   "name": "python2"
  },
  "language_info": {
   "codemirror_mode": {
    "name": "ipython",
    "version": 2
   },
   "file_extension": ".py",
   "mimetype": "text/x-python",
   "name": "python",
   "nbconvert_exporter": "python",
   "pygments_lexer": "ipython2",
   "version": "2.7.10"
  }
 },
 "nbformat": 4,
 "nbformat_minor": 2
}
