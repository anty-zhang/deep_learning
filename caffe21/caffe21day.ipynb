{
 "cells": [
  {
   "cell_type": "markdown",
   "metadata": {},
   "source": [
    "# 深度学习过往\n",
    "\n",
    "### 传统机器学习和深度学习比较\n",
    "\n",
    "* 传统机器学习局限性\n",
    "\n",
    "> 原始数据 ----> 特征提取\n",
    "\n",
    "> 在处理院士形态的自然数据方面有很大的局限性\n",
    "\n",
    "> 为了让分类器更强大，可是使用广义非线性特征以及核函数方法，但广义特征（如高斯核函数）泛化能力差\n",
    "\n",
    "* 深度学习优势\n",
    "\n",
    "> 不需要人工设计特征提取， 而是由机器自动学习获得，特别适合变化多端的自然数据，具有非常优良的泛化和鲁棒性\n",
    "\n",
    "\n",
    "### 从表示学习到深度学习\n",
    "```bash\n",
    "1. 表示学习（Representtation Learning）：直接以原始数据形式提供机器输入，自动发现用户检测和分类的表示\n",
    "\n",
    "2. 深度学习： 是一种多层表示学习方法， 用简单的非线性模块构建而成， 这些模块将上一层表示（从原始数据开始）转化为更高层、更抽象的表示。\n",
    "\n",
    "```\n",
    "\n"
   ]
  }
 ],
 "metadata": {
  "kernelspec": {
   "display_name": "Python 2",
   "language": "python",
   "name": "python2"
  },
  "language_info": {
   "codemirror_mode": {
    "name": "ipython",
    "version": 2
   },
   "file_extension": ".py",
   "mimetype": "text/x-python",
   "name": "python",
   "nbconvert_exporter": "python",
   "pygments_lexer": "ipython2",
   "version": "2.7.10"
  }
 },
 "nbformat": 4,
 "nbformat_minor": 2
}
